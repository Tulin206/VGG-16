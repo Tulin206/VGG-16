{
 "cells": [
  {
   "cell_type": "code",
   "execution_count": 1,
   "metadata": {
    "id": "g_GiOk03WlrD"
   },
   "outputs": [],
   "source": [
    "import tensorflow as tf\n",
    "from tensorflow.keras.layers import Input, Lambda, Dense, Flatten, Dropout, Activation\n",
    "from tensorflow.keras.models import Model\n",
    "from tensorflow.keras import datasets\n",
    "from tensorflow.keras.applications.vgg16 import VGG16\n",
    "# from tensorflow.keras.applications.vgg19 import VGG19\n",
    "from keras.layers import Conv2D, MaxPooling2D, BatchNormalization\n",
    "from keras import optimizers\n",
    "from tensorflow.keras.preprocessing import image\n",
    "from tensorflow.keras.preprocessing.image import ImageDataGenerator,load_img\n",
    "from tensorflow.keras.models import Sequential\n",
    "from keras import backend as K\n",
    "from keras import regularizers\n",
    "import matplotlib.pyplot as plt\n",
    "import numpy as np\n",
    "from glob import glob"
   ]
  },
  {
   "cell_type": "code",
   "execution_count": 2,
   "metadata": {
    "colab": {
     "base_uri": "https://localhost:8080/"
    },
    "id": "jYuTGPlfWuBh",
    "outputId": "9cc82222-662d-45e6-e0fe-3a9e9009408f"
   },
   "outputs": [
    {
     "name": "stdout",
     "output_type": "stream",
     "text": [
      "Downloading data from https://storage.googleapis.com/tensorflow/keras-applications/vgg16/vgg16_weights_tf_dim_ordering_tf_kernels_notop.h5\n",
      "58892288/58889256 [==============================] - 0s 0us/step\n"
     ]
    }
   ],
   "source": [
    "# get VGG16 base model and define new input shape\n",
    "vgg16 = tf.keras.applications.vgg16.VGG16(input_shape=(32, 32, 3),\n",
    "                                       weights='imagenet',\n",
    "                                       include_top=False)"
   ]
  },
  {
   "cell_type": "code",
   "execution_count": 3,
   "metadata": {
    "id": "2Clhobv_XJ0W"
   },
   "outputs": [],
   "source": [
    "# add new dense layers at the top\n",
    "x = tf.keras.layers.Flatten()(vgg16.output)\n",
    "x = tf.keras.layers.Dense(1024, activation='relu')(x)\n",
    "x = tf.keras.layers.Dropout(0.5)(x)\n",
    "x = tf.keras.layers.Dense(128, activation='relu')(x)\n",
    "predictions = tf.keras.layers.Dense(10, activation='softmax')(x)"
   ]
  },
  {
   "cell_type": "code",
   "execution_count": 4,
   "metadata": {
    "id": "OsKjNZ9hXa7x"
   },
   "outputs": [],
   "source": [
    "# define and compile model\n",
    "model = tf.keras.Model(inputs=vgg16.inputs, outputs=predictions)\n",
    "for layer in vgg16.layers:\n",
    "    layer.trainable = False\n",
    "model.compile(optimizer='adam',\n",
    "              loss='categorical_crossentropy',\n",
    "              metrics=['accuracy'])"
   ]
  },
  {
   "cell_type": "code",
   "execution_count": 5,
   "metadata": {
    "colab": {
     "base_uri": "https://localhost:8080/"
    },
    "id": "MsRfGBWIXqmA",
    "outputId": "1e4d72a7-4b1c-4520-e16f-0ce1cde7c116"
   },
   "outputs": [
    {
     "name": "stdout",
     "output_type": "stream",
     "text": [
      "Model: \"model\"\n",
      "_________________________________________________________________\n",
      "Layer (type)                 Output Shape              Param #   \n",
      "=================================================================\n",
      "input_1 (InputLayer)         [(None, 32, 32, 3)]       0         \n",
      "_________________________________________________________________\n",
      "block1_conv1 (Conv2D)        (None, 32, 32, 64)        1792      \n",
      "_________________________________________________________________\n",
      "block1_conv2 (Conv2D)        (None, 32, 32, 64)        36928     \n",
      "_________________________________________________________________\n",
      "block1_pool (MaxPooling2D)   (None, 16, 16, 64)        0         \n",
      "_________________________________________________________________\n",
      "block2_conv1 (Conv2D)        (None, 16, 16, 128)       73856     \n",
      "_________________________________________________________________\n",
      "block2_conv2 (Conv2D)        (None, 16, 16, 128)       147584    \n",
      "_________________________________________________________________\n",
      "block2_pool (MaxPooling2D)   (None, 8, 8, 128)         0         \n",
      "_________________________________________________________________\n",
      "block3_conv1 (Conv2D)        (None, 8, 8, 256)         295168    \n",
      "_________________________________________________________________\n",
      "block3_conv2 (Conv2D)        (None, 8, 8, 256)         590080    \n",
      "_________________________________________________________________\n",
      "block3_conv3 (Conv2D)        (None, 8, 8, 256)         590080    \n",
      "_________________________________________________________________\n",
      "block3_pool (MaxPooling2D)   (None, 4, 4, 256)         0         \n",
      "_________________________________________________________________\n",
      "block4_conv1 (Conv2D)        (None, 4, 4, 512)         1180160   \n",
      "_________________________________________________________________\n",
      "block4_conv2 (Conv2D)        (None, 4, 4, 512)         2359808   \n",
      "_________________________________________________________________\n",
      "block4_conv3 (Conv2D)        (None, 4, 4, 512)         2359808   \n",
      "_________________________________________________________________\n",
      "block4_pool (MaxPooling2D)   (None, 2, 2, 512)         0         \n",
      "_________________________________________________________________\n",
      "block5_conv1 (Conv2D)        (None, 2, 2, 512)         2359808   \n",
      "_________________________________________________________________\n",
      "block5_conv2 (Conv2D)        (None, 2, 2, 512)         2359808   \n",
      "_________________________________________________________________\n",
      "block5_conv3 (Conv2D)        (None, 2, 2, 512)         2359808   \n",
      "_________________________________________________________________\n",
      "block5_pool (MaxPooling2D)   (None, 1, 1, 512)         0         \n",
      "_________________________________________________________________\n",
      "flatten (Flatten)            (None, 512)               0         \n",
      "_________________________________________________________________\n",
      "dense (Dense)                (None, 1024)              525312    \n",
      "_________________________________________________________________\n",
      "dropout (Dropout)            (None, 1024)              0         \n",
      "_________________________________________________________________\n",
      "dense_1 (Dense)              (None, 128)               131200    \n",
      "_________________________________________________________________\n",
      "dense_2 (Dense)              (None, 10)                1290      \n",
      "=================================================================\n",
      "Total params: 15,372,490\n",
      "Trainable params: 657,802\n",
      "Non-trainable params: 14,714,688\n",
      "_________________________________________________________________\n"
     ]
    }
   ],
   "source": [
    "# view the structure of the model\n",
    "model.summary()"
   ]
  },
  {
   "cell_type": "code",
   "execution_count": 6,
   "metadata": {
    "id": "QWeoMEC_azT5"
   },
   "outputs": [],
   "source": [
    "# COmpiling the model\n",
    "model.compile(optimizer='adam',\n",
    "              loss= 'categorical_crossentropy',\n",
    "              metrics=['accuracy'])"
   ]
  },
  {
   "cell_type": "code",
   "execution_count": 7,
   "metadata": {
    "colab": {
     "base_uri": "https://localhost:8080/"
    },
    "id": "xXNzbB_ybKnU",
    "outputId": "4d53b0bd-2059-4d36-b51b-b860b04045c3"
   },
   "outputs": [
    {
     "name": "stdout",
     "output_type": "stream",
     "text": [
      "Downloading data from https://www.cs.toronto.edu/~kriz/cifar-10-python.tar.gz\n",
      "170500096/170498071 [==============================] - 2s 0us/step\n"
     ]
    }
   ],
   "source": [
    "(X_train, y_train), (X_test,y_test) = datasets.cifar10.load_data()"
   ]
  },
  {
   "cell_type": "code",
   "execution_count": 8,
   "metadata": {
    "id": "0sPw2oZlbRDS"
   },
   "outputs": [],
   "source": [
    "#Train-validation-test split\n",
    "\n",
    "#from sklearn.model_selection import train_test_split\n",
    "#X_train,X_val,y_train,y_val=train_test_split(X_train,y_train,test_size=.3)\n",
    "\n",
    "X_val, y_val = X_train [:5000], y_train [:5000]\n",
    "X_train, y_train = X_train[5000:], y_train[5000:]"
   ]
  },
  {
   "cell_type": "code",
   "execution_count": 9,
   "metadata": {
    "id": "s-Rc_4Y4pIsz"
   },
   "outputs": [],
   "source": [
    "#Onehot Encoding the labels.\n",
    "\n",
    "from sklearn.utils.multiclass import unique_labels\n",
    "from tensorflow.keras.utils import to_categorical"
   ]
  },
  {
   "cell_type": "code",
   "execution_count": 10,
   "metadata": {
    "id": "QAsEwVrhpMUk"
   },
   "outputs": [],
   "source": [
    "#Since we have 10 classes we should expect the shape[1] of y_train,y_val and y_test to change from 1 to 10\n",
    "\n",
    "y_train=to_categorical(y_train)\n",
    "y_val=to_categorical(y_val)\n",
    "y_test=to_categorical(y_test)"
   ]
  },
  {
   "cell_type": "code",
   "execution_count": null,
   "metadata": {
    "id": "m3u0FdMWdKLI"
   },
   "outputs": [],
   "source": [
    "# # Use the Image Data Generator to import the images from the dataset\n",
    "# from tensorflow.keras.preprocessing.image import ImageDataGenerator\n",
    "\n",
    "# train_datagen = ImageDataGenerator(rescale = 1./255,\n",
    "#                                    shear_range = 0.2,\n",
    "#                                    zoom_range = 0.2,\n",
    "#                                    horizontal_flip = True)\n",
    "\n",
    "# test_datagen = ImageDataGenerator(rescale = 1./255)"
   ]
  },
  {
   "cell_type": "code",
   "execution_count": 11,
   "metadata": {
    "id": "LClcH5sAq9Xu"
   },
   "outputs": [],
   "source": [
    "#Image Data Augmentation\n",
    "\n",
    "from tensorflow.keras.preprocessing.image import ImageDataGenerator\n",
    "\n",
    "train_generator = ImageDataGenerator(rotation_range=2, horizontal_flip=True,zoom_range=.1 )\n",
    "\n",
    "val_generator = ImageDataGenerator(rotation_range=2, horizontal_flip=True,zoom_range=.1)\n",
    "\n",
    "test_generator = ImageDataGenerator(rotation_range=2, horizontal_flip= True,zoom_range=.1)"
   ]
  },
  {
   "cell_type": "code",
   "execution_count": 12,
   "metadata": {
    "id": "ICRC4z1QrDWt"
   },
   "outputs": [],
   "source": [
    "#Fitting the augmentation defined above to the data\n",
    "\n",
    "train_generator.fit(X_train)\n",
    "val_generator.fit(X_val)\n",
    "test_ds = test_generator.fit(X_test)"
   ]
  },
  {
   "cell_type": "code",
   "execution_count": 13,
   "metadata": {
    "id": "vD88bLserIC1"
   },
   "outputs": [],
   "source": [
    "#Learning Rate Annealer\n",
    "\n",
    "# from tensorflow.keras.callbacks import EarlyStopping\n",
    "# ES = EarlyStopping(monitor=\"val_loss\", patience=1)\n",
    "\n",
    "from tensorflow.keras.callbacks import ReduceLROnPlateau\n",
    "lrr= ReduceLROnPlateau(   monitor='val_accuracy',   factor=.01,   patience=3,  min_lr=1e-5) "
   ]
  },
  {
   "cell_type": "code",
   "execution_count": 14,
   "metadata": {
    "id": "cI3Gx32PrLfN"
   },
   "outputs": [],
   "source": [
    "# #Defining the parameters\n",
    "\n",
    "# batch_size= 100\n",
    "# epochs=100\n",
    "# learn_rate=.001"
   ]
  },
  {
   "cell_type": "code",
   "execution_count": 15,
   "metadata": {
    "colab": {
     "base_uri": "https://localhost:8080/"
    },
    "id": "58OD_ts1rywB",
    "outputId": "b0b7a7d7-9f3e-4f49-f095-74fb6e9bb4bd"
   },
   "outputs": [
    {
     "name": "stdout",
     "output_type": "stream",
     "text": [
      "Epoch 1/100\n",
      "1407/1407 [==============================] - 60s 19ms/step - loss: 3.0130 - accuracy: 0.3076 - val_loss: 1.3826 - val_accuracy: 0.4970\n",
      "Epoch 2/100\n",
      "1407/1407 [==============================] - 26s 18ms/step - loss: 1.4060 - accuracy: 0.5112 - val_loss: 1.2598 - val_accuracy: 0.5588\n",
      "Epoch 3/100\n",
      "1407/1407 [==============================] - 26s 19ms/step - loss: 1.2916 - accuracy: 0.5554 - val_loss: 1.2337 - val_accuracy: 0.5794\n",
      "Epoch 4/100\n",
      "1407/1407 [==============================] - 26s 19ms/step - loss: 1.2397 - accuracy: 0.5767 - val_loss: 1.2311 - val_accuracy: 0.5792\n",
      "Epoch 5/100\n",
      "1407/1407 [==============================] - 26s 19ms/step - loss: 1.2051 - accuracy: 0.5916 - val_loss: 1.1693 - val_accuracy: 0.6068\n",
      "Epoch 6/100\n",
      "1407/1407 [==============================] - 26s 19ms/step - loss: 1.1913 - accuracy: 0.5929 - val_loss: 1.1759 - val_accuracy: 0.6058\n",
      "Epoch 7/100\n",
      "1407/1407 [==============================] - 26s 18ms/step - loss: 1.1481 - accuracy: 0.6107 - val_loss: 1.1635 - val_accuracy: 0.6110\n",
      "Epoch 8/100\n",
      "1407/1407 [==============================] - 26s 18ms/step - loss: 1.1318 - accuracy: 0.6134 - val_loss: 1.1696 - val_accuracy: 0.6064\n",
      "Epoch 9/100\n",
      "1407/1407 [==============================] - 26s 18ms/step - loss: 1.1136 - accuracy: 0.6198 - val_loss: 1.1539 - val_accuracy: 0.6176\n",
      "Epoch 10/100\n",
      "1407/1407 [==============================] - 26s 18ms/step - loss: 1.0997 - accuracy: 0.6284 - val_loss: 1.1373 - val_accuracy: 0.6320\n",
      "Epoch 11/100\n",
      "1407/1407 [==============================] - 26s 18ms/step - loss: 1.0795 - accuracy: 0.6341 - val_loss: 1.1659 - val_accuracy: 0.6126\n",
      "Epoch 12/100\n",
      "1407/1407 [==============================] - 26s 18ms/step - loss: 1.0600 - accuracy: 0.6371 - val_loss: 1.1519 - val_accuracy: 0.6208\n",
      "Epoch 13/100\n",
      "1407/1407 [==============================] - 26s 18ms/step - loss: 1.0409 - accuracy: 0.6467 - val_loss: 1.1354 - val_accuracy: 0.6248\n",
      "Epoch 14/100\n",
      "1407/1407 [==============================] - 26s 18ms/step - loss: 0.9902 - accuracy: 0.6650 - val_loss: 1.1247 - val_accuracy: 0.6288\n",
      "Epoch 15/100\n",
      "1407/1407 [==============================] - 26s 19ms/step - loss: 0.9690 - accuracy: 0.6758 - val_loss: 1.0973 - val_accuracy: 0.6424\n",
      "Epoch 16/100\n",
      "1407/1407 [==============================] - 26s 18ms/step - loss: 0.9457 - accuracy: 0.6781 - val_loss: 1.1062 - val_accuracy: 0.6304\n",
      "Epoch 17/100\n",
      "1407/1407 [==============================] - 26s 18ms/step - loss: 0.9399 - accuracy: 0.6819 - val_loss: 1.1042 - val_accuracy: 0.6380\n",
      "Epoch 18/100\n",
      "1407/1407 [==============================] - 26s 18ms/step - loss: 0.9259 - accuracy: 0.6827 - val_loss: 1.0996 - val_accuracy: 0.6412\n",
      "Epoch 19/100\n",
      "1407/1407 [==============================] - 26s 18ms/step - loss: 0.9271 - accuracy: 0.6829 - val_loss: 1.0897 - val_accuracy: 0.6430\n",
      "Epoch 20/100\n",
      "1407/1407 [==============================] - 26s 18ms/step - loss: 0.9258 - accuracy: 0.6831 - val_loss: 1.0972 - val_accuracy: 0.6416\n",
      "Epoch 21/100\n",
      "1407/1407 [==============================] - 26s 18ms/step - loss: 0.9097 - accuracy: 0.6907 - val_loss: 1.1017 - val_accuracy: 0.6386\n",
      "Epoch 22/100\n",
      "1407/1407 [==============================] - 26s 18ms/step - loss: 0.9020 - accuracy: 0.6893 - val_loss: 1.0800 - val_accuracy: 0.6408\n",
      "Epoch 23/100\n",
      "1407/1407 [==============================] - 26s 18ms/step - loss: 0.8981 - accuracy: 0.6947 - val_loss: 1.0988 - val_accuracy: 0.6414\n",
      "Epoch 24/100\n",
      "1407/1407 [==============================] - 26s 18ms/step - loss: 0.9048 - accuracy: 0.6917 - val_loss: 1.0794 - val_accuracy: 0.6548\n",
      "Epoch 25/100\n",
      "1407/1407 [==============================] - 26s 18ms/step - loss: 0.8924 - accuracy: 0.6924 - val_loss: 1.0819 - val_accuracy: 0.6434\n",
      "Epoch 26/100\n",
      "1407/1407 [==============================] - 26s 18ms/step - loss: 0.8960 - accuracy: 0.6933 - val_loss: 1.0826 - val_accuracy: 0.6444\n",
      "Epoch 27/100\n",
      "1407/1407 [==============================] - 26s 18ms/step - loss: 0.8928 - accuracy: 0.6930 - val_loss: 1.0976 - val_accuracy: 0.6384\n",
      "Epoch 28/100\n",
      "1407/1407 [==============================] - 26s 18ms/step - loss: 0.8932 - accuracy: 0.6930 - val_loss: 1.0962 - val_accuracy: 0.6356\n",
      "Epoch 29/100\n",
      "1407/1407 [==============================] - 26s 18ms/step - loss: 0.9020 - accuracy: 0.6905 - val_loss: 1.0763 - val_accuracy: 0.6478\n",
      "Epoch 30/100\n",
      "1407/1407 [==============================] - 26s 18ms/step - loss: 0.8792 - accuracy: 0.7017 - val_loss: 1.0815 - val_accuracy: 0.6428\n",
      "Epoch 31/100\n",
      "1407/1407 [==============================] - 26s 18ms/step - loss: 0.8794 - accuracy: 0.6960 - val_loss: 1.0964 - val_accuracy: 0.6440\n",
      "Epoch 32/100\n",
      "1407/1407 [==============================] - 26s 18ms/step - loss: 0.8843 - accuracy: 0.6969 - val_loss: 1.0844 - val_accuracy: 0.6440\n",
      "Epoch 33/100\n",
      "1407/1407 [==============================] - 26s 18ms/step - loss: 0.8829 - accuracy: 0.6984 - val_loss: 1.0893 - val_accuracy: 0.6410\n",
      "Epoch 34/100\n",
      "1407/1407 [==============================] - 26s 18ms/step - loss: 0.8733 - accuracy: 0.7006 - val_loss: 1.0892 - val_accuracy: 0.6422\n",
      "Epoch 35/100\n",
      "1407/1407 [==============================] - 26s 18ms/step - loss: 0.8658 - accuracy: 0.7025 - val_loss: 1.0831 - val_accuracy: 0.6458\n",
      "Epoch 36/100\n",
      "1407/1407 [==============================] - 26s 18ms/step - loss: 0.8837 - accuracy: 0.6979 - val_loss: 1.0797 - val_accuracy: 0.6500\n",
      "Epoch 37/100\n",
      "1407/1407 [==============================] - 26s 18ms/step - loss: 0.8584 - accuracy: 0.7052 - val_loss: 1.0889 - val_accuracy: 0.6424\n",
      "Epoch 38/100\n",
      "1407/1407 [==============================] - 26s 18ms/step - loss: 0.8619 - accuracy: 0.7029 - val_loss: 1.0826 - val_accuracy: 0.6474\n",
      "Epoch 39/100\n",
      "1407/1407 [==============================] - 26s 18ms/step - loss: 0.8660 - accuracy: 0.7039 - val_loss: 1.0800 - val_accuracy: 0.6410\n",
      "Epoch 40/100\n",
      "1407/1407 [==============================] - 26s 18ms/step - loss: 0.8651 - accuracy: 0.7040 - val_loss: 1.1021 - val_accuracy: 0.6428\n",
      "Epoch 41/100\n",
      "1407/1407 [==============================] - 26s 18ms/step - loss: 0.8596 - accuracy: 0.7044 - val_loss: 1.0905 - val_accuracy: 0.6436\n",
      "Epoch 42/100\n",
      "1407/1407 [==============================] - 26s 18ms/step - loss: 0.8540 - accuracy: 0.7049 - val_loss: 1.0817 - val_accuracy: 0.6458\n",
      "Epoch 43/100\n",
      "1407/1407 [==============================] - 26s 18ms/step - loss: 0.8497 - accuracy: 0.7076 - val_loss: 1.0864 - val_accuracy: 0.6464\n",
      "Epoch 44/100\n",
      "1407/1407 [==============================] - 26s 18ms/step - loss: 0.8586 - accuracy: 0.7056 - val_loss: 1.0923 - val_accuracy: 0.6394\n",
      "Epoch 45/100\n",
      "1407/1407 [==============================] - 26s 18ms/step - loss: 0.8519 - accuracy: 0.7116 - val_loss: 1.0794 - val_accuracy: 0.6410\n",
      "Epoch 46/100\n",
      "1407/1407 [==============================] - 26s 18ms/step - loss: 0.8595 - accuracy: 0.7079 - val_loss: 1.0855 - val_accuracy: 0.6372\n",
      "Epoch 47/100\n",
      "1407/1407 [==============================] - 26s 18ms/step - loss: 0.8476 - accuracy: 0.7128 - val_loss: 1.0825 - val_accuracy: 0.6462\n",
      "Epoch 48/100\n",
      "1407/1407 [==============================] - 26s 18ms/step - loss: 0.8505 - accuracy: 0.7113 - val_loss: 1.0830 - val_accuracy: 0.6468\n",
      "Epoch 49/100\n",
      "1407/1407 [==============================] - 26s 18ms/step - loss: 0.8448 - accuracy: 0.7119 - val_loss: 1.0875 - val_accuracy: 0.6444\n",
      "Epoch 50/100\n",
      "1407/1407 [==============================] - 26s 18ms/step - loss: 0.8430 - accuracy: 0.7123 - val_loss: 1.0851 - val_accuracy: 0.6450\n",
      "Epoch 51/100\n",
      "1407/1407 [==============================] - 26s 19ms/step - loss: 0.8404 - accuracy: 0.7128 - val_loss: 1.0781 - val_accuracy: 0.6480\n",
      "Epoch 52/100\n",
      "1407/1407 [==============================] - 26s 18ms/step - loss: 0.8418 - accuracy: 0.7109 - val_loss: 1.0932 - val_accuracy: 0.6450\n",
      "Epoch 53/100\n",
      "1407/1407 [==============================] - 26s 18ms/step - loss: 0.8508 - accuracy: 0.7078 - val_loss: 1.0732 - val_accuracy: 0.6482\n",
      "Epoch 54/100\n",
      "1407/1407 [==============================] - 26s 18ms/step - loss: 0.8450 - accuracy: 0.7133 - val_loss: 1.0847 - val_accuracy: 0.6498\n",
      "Epoch 55/100\n",
      "1407/1407 [==============================] - 26s 18ms/step - loss: 0.8519 - accuracy: 0.7080 - val_loss: 1.0943 - val_accuracy: 0.6416\n",
      "Epoch 56/100\n",
      "1407/1407 [==============================] - 26s 18ms/step - loss: 0.8383 - accuracy: 0.7116 - val_loss: 1.0774 - val_accuracy: 0.6456\n",
      "Epoch 57/100\n",
      "1407/1407 [==============================] - 26s 18ms/step - loss: 0.8463 - accuracy: 0.7101 - val_loss: 1.0786 - val_accuracy: 0.6496\n",
      "Epoch 58/100\n",
      "1407/1407 [==============================] - 26s 18ms/step - loss: 0.8364 - accuracy: 0.7125 - val_loss: 1.0808 - val_accuracy: 0.6412\n",
      "Epoch 59/100\n",
      "1407/1407 [==============================] - 26s 18ms/step - loss: 0.8400 - accuracy: 0.7133 - val_loss: 1.0783 - val_accuracy: 0.6514\n",
      "Epoch 60/100\n",
      "1407/1407 [==============================] - 26s 18ms/step - loss: 0.8355 - accuracy: 0.7130 - val_loss: 1.0684 - val_accuracy: 0.6530\n",
      "Epoch 61/100\n",
      "1407/1407 [==============================] - 26s 18ms/step - loss: 0.8343 - accuracy: 0.7144 - val_loss: 1.0858 - val_accuracy: 0.6448\n",
      "Epoch 62/100\n",
      "1407/1407 [==============================] - 26s 18ms/step - loss: 0.8361 - accuracy: 0.7129 - val_loss: 1.0851 - val_accuracy: 0.6432\n",
      "Epoch 63/100\n",
      "1407/1407 [==============================] - 26s 19ms/step - loss: 0.8295 - accuracy: 0.7149 - val_loss: 1.0932 - val_accuracy: 0.6408\n",
      "Epoch 64/100\n",
      "1407/1407 [==============================] - 26s 18ms/step - loss: 0.8338 - accuracy: 0.7135 - val_loss: 1.0793 - val_accuracy: 0.6494\n",
      "Epoch 65/100\n",
      "1407/1407 [==============================] - 26s 18ms/step - loss: 0.8386 - accuracy: 0.7101 - val_loss: 1.0762 - val_accuracy: 0.6494\n",
      "Epoch 66/100\n",
      "1407/1407 [==============================] - 26s 18ms/step - loss: 0.8395 - accuracy: 0.7109 - val_loss: 1.0836 - val_accuracy: 0.6420\n",
      "Epoch 67/100\n",
      "1407/1407 [==============================] - 26s 18ms/step - loss: 0.8291 - accuracy: 0.7170 - val_loss: 1.0695 - val_accuracy: 0.6462\n",
      "Epoch 68/100\n",
      "1407/1407 [==============================] - 26s 19ms/step - loss: 0.8295 - accuracy: 0.7135 - val_loss: 1.0830 - val_accuracy: 0.6442\n",
      "Epoch 69/100\n",
      "1407/1407 [==============================] - 26s 18ms/step - loss: 0.8391 - accuracy: 0.7115 - val_loss: 1.0762 - val_accuracy: 0.6442\n",
      "Epoch 70/100\n",
      "1407/1407 [==============================] - 26s 18ms/step - loss: 0.8253 - accuracy: 0.7181 - val_loss: 1.0899 - val_accuracy: 0.6416\n",
      "Epoch 71/100\n",
      "1407/1407 [==============================] - 26s 18ms/step - loss: 0.8290 - accuracy: 0.7136 - val_loss: 1.0803 - val_accuracy: 0.6550\n",
      "Epoch 72/100\n",
      "1407/1407 [==============================] - 26s 18ms/step - loss: 0.8270 - accuracy: 0.7130 - val_loss: 1.0798 - val_accuracy: 0.6492\n",
      "Epoch 73/100\n",
      "1407/1407 [==============================] - 26s 18ms/step - loss: 0.8094 - accuracy: 0.7233 - val_loss: 1.0760 - val_accuracy: 0.6480\n",
      "Epoch 74/100\n",
      "1407/1407 [==============================] - 26s 18ms/step - loss: 0.8366 - accuracy: 0.7124 - val_loss: 1.0896 - val_accuracy: 0.6418\n",
      "Epoch 75/100\n",
      "1407/1407 [==============================] - 26s 19ms/step - loss: 0.8192 - accuracy: 0.7232 - val_loss: 1.0750 - val_accuracy: 0.6564\n",
      "Epoch 76/100\n",
      "1407/1407 [==============================] - 26s 18ms/step - loss: 0.8163 - accuracy: 0.7200 - val_loss: 1.0869 - val_accuracy: 0.6490\n",
      "Epoch 77/100\n",
      "1407/1407 [==============================] - 26s 18ms/step - loss: 0.8145 - accuracy: 0.7192 - val_loss: 1.0924 - val_accuracy: 0.6452\n",
      "Epoch 78/100\n",
      "1407/1407 [==============================] - 26s 18ms/step - loss: 0.8187 - accuracy: 0.7166 - val_loss: 1.0947 - val_accuracy: 0.6482\n",
      "Epoch 79/100\n",
      "1407/1407 [==============================] - 26s 18ms/step - loss: 0.8071 - accuracy: 0.7236 - val_loss: 1.0834 - val_accuracy: 0.6456\n",
      "Epoch 80/100\n",
      "1407/1407 [==============================] - 26s 19ms/step - loss: 0.8121 - accuracy: 0.7236 - val_loss: 1.0783 - val_accuracy: 0.6500\n",
      "Epoch 81/100\n",
      "1407/1407 [==============================] - 26s 19ms/step - loss: 0.8075 - accuracy: 0.7235 - val_loss: 1.0746 - val_accuracy: 0.6446\n",
      "Epoch 82/100\n",
      "1407/1407 [==============================] - 26s 19ms/step - loss: 0.8080 - accuracy: 0.7219 - val_loss: 1.0831 - val_accuracy: 0.6516\n",
      "Epoch 83/100\n",
      "1407/1407 [==============================] - 26s 18ms/step - loss: 0.8098 - accuracy: 0.7194 - val_loss: 1.1006 - val_accuracy: 0.6442\n",
      "Epoch 84/100\n",
      "1407/1407 [==============================] - 26s 18ms/step - loss: 0.8017 - accuracy: 0.7229 - val_loss: 1.0956 - val_accuracy: 0.6460\n",
      "Epoch 85/100\n",
      "1407/1407 [==============================] - 26s 18ms/step - loss: 0.8227 - accuracy: 0.7192 - val_loss: 1.0825 - val_accuracy: 0.6512\n",
      "Epoch 86/100\n",
      "1407/1407 [==============================] - 26s 18ms/step - loss: 0.8015 - accuracy: 0.7240 - val_loss: 1.0940 - val_accuracy: 0.6406\n",
      "Epoch 87/100\n",
      "1407/1407 [==============================] - 27s 19ms/step - loss: 0.8111 - accuracy: 0.7221 - val_loss: 1.0670 - val_accuracy: 0.6560\n",
      "Epoch 88/100\n",
      "1407/1407 [==============================] - 26s 18ms/step - loss: 0.8055 - accuracy: 0.7205 - val_loss: 1.0856 - val_accuracy: 0.6518\n",
      "Epoch 89/100\n",
      "1407/1407 [==============================] - 26s 18ms/step - loss: 0.8048 - accuracy: 0.7219 - val_loss: 1.0842 - val_accuracy: 0.6446\n",
      "Epoch 90/100\n",
      "1407/1407 [==============================] - 26s 18ms/step - loss: 0.8124 - accuracy: 0.7209 - val_loss: 1.0858 - val_accuracy: 0.6526\n",
      "Epoch 91/100\n",
      "1407/1407 [==============================] - 26s 19ms/step - loss: 0.7927 - accuracy: 0.7278 - val_loss: 1.0808 - val_accuracy: 0.6442\n",
      "Epoch 92/100\n",
      "1407/1407 [==============================] - 26s 19ms/step - loss: 0.7957 - accuracy: 0.7264 - val_loss: 1.0872 - val_accuracy: 0.6480\n",
      "Epoch 93/100\n",
      "1407/1407 [==============================] - 26s 18ms/step - loss: 0.7996 - accuracy: 0.7238 - val_loss: 1.0823 - val_accuracy: 0.6466\n",
      "Epoch 94/100\n",
      "1407/1407 [==============================] - 26s 18ms/step - loss: 0.7968 - accuracy: 0.7270 - val_loss: 1.0982 - val_accuracy: 0.6466\n",
      "Epoch 95/100\n",
      "1407/1407 [==============================] - 26s 19ms/step - loss: 0.7931 - accuracy: 0.7259 - val_loss: 1.0745 - val_accuracy: 0.6526\n",
      "Epoch 96/100\n",
      "1407/1407 [==============================] - 27s 19ms/step - loss: 0.8004 - accuracy: 0.7232 - val_loss: 1.0966 - val_accuracy: 0.6516\n",
      "Epoch 97/100\n",
      "1407/1407 [==============================] - 27s 19ms/step - loss: 0.8025 - accuracy: 0.7262 - val_loss: 1.0879 - val_accuracy: 0.6510\n",
      "Epoch 98/100\n",
      "1407/1407 [==============================] - 27s 19ms/step - loss: 0.8074 - accuracy: 0.7216 - val_loss: 1.0823 - val_accuracy: 0.6536\n",
      "Epoch 99/100\n",
      "1407/1407 [==============================] - 26s 19ms/step - loss: 0.7936 - accuracy: 0.7274 - val_loss: 1.0935 - val_accuracy: 0.6434\n",
      "Epoch 100/100\n",
      "1407/1407 [==============================] - 26s 19ms/step - loss: 0.7953 - accuracy: 0.7268 - val_loss: 1.0710 - val_accuracy: 0.6440\n"
     ]
    }
   ],
   "source": [
    "history = model.fit(train_generator.flow(X_train, y_train, batch_size=32),\n",
    "                    epochs = 100,\n",
    "                    batch_size = 64,\n",
    "                    validation_data = val_generator.flow(X_val, y_val, batch_size=32),\n",
    "                    callbacks=[lrr])"
   ]
  },
  {
   "cell_type": "code",
   "execution_count": 18,
   "metadata": {
    "id": "58x1mLNWrRcF"
   },
   "outputs": [],
   "source": [
    "# history = model.fit_generator(train_generator.flow(X_train, y_train, batch_size=batch_size), epochs = epochs, \n",
    "#                      steps_per_epoch = len(X_train)//batch_size, validation_data = val_generator.flow(X_val, y_val, batch_size=batch_size), validation_steps = 250, callbacks = [lrr], verbose=1)"
   ]
  },
  {
   "cell_type": "code",
   "execution_count": 19,
   "metadata": {
    "colab": {
     "base_uri": "https://localhost:8080/"
    },
    "id": "Va8rhSJcj0Yg",
    "outputId": "b229c74c-9c61-4c03-8cd1-32913dc22b23"
   },
   "outputs": [
    {
     "name": "stdout",
     "output_type": "stream",
     "text": [
      "313/313 [==============================] - 3s 9ms/step - loss: 1.0852 - accuracy: 0.6551\n"
     ]
    },
    {
     "data": {
      "text/plain": [
       "[1.085191249847412, 0.6550999879837036]"
      ]
     },
     "execution_count": 19,
     "metadata": {
      "tags": []
     },
     "output_type": "execute_result"
    }
   ],
   "source": [
    "model.evaluate(X_test,y_test)"
   ]
  },
  {
   "cell_type": "code",
   "execution_count": 20,
   "metadata": {
    "id": "14W1Gv_DN00S"
   },
   "outputs": [],
   "source": [
    "# Pandas and Numpy for data structures and util fucntions\n",
    "import scipy as sp\n",
    "import numpy as np\n",
    "import pandas as pd\n",
    "from numpy.random import rand\n",
    "pd.options.display.max_colwidth = 600\n",
    "\n",
    "# Scikit Imports\n",
    "from sklearn import preprocessing\n",
    "from sklearn.metrics import roc_curve, auc, precision_recall_curve\n",
    "from sklearn.model_selection import train_test_split\n",
    "\n",
    "# import cnn_utils as utils\n",
    "# from model_evaluation_utils import get_metrics\n",
    "\n",
    "# Matplot Imports\n",
    "import matplotlib.pyplot as plt\n",
    "params = {'legend.fontsize': 'x-large',\n",
    "          'figure.figsize': (15, 5),\n",
    "          'axes.labelsize': 'x-large',\n",
    "          'axes.titlesize':'x-large',\n",
    "          'xtick.labelsize':'x-large',\n",
    "          'ytick.labelsize':'x-large'}\n",
    "\n",
    "plt.rcParams.update(params)\n",
    "%matplotlib inline\n",
    "\n",
    "# pandas display data frames as tables\n",
    "from IPython.display import display, HTML\n",
    "\n",
    "import warnings\n",
    "warnings.filterwarnings('ignore')"
   ]
  },
  {
   "cell_type": "code",
   "execution_count": 21,
   "metadata": {
    "colab": {
     "base_uri": "https://localhost:8080/",
     "height": 378
    },
    "id": "m9q5tyVyN6l8",
    "outputId": "ad18391b-ba44-4037-d71b-d389c4f4d85e"
   },
   "outputs": [
    {
     "data": {
      "image/png": "[encoded data removed]",
      "text/plain": [
       "<Figure size 1080x360 with 2 Axes>"
      ]
     },
     "metadata": {
      "needs_background": "light",
      "tags": []
     },
     "output_type": "display_data"
    }
   ],
   "source": [
    "f, (ax1, ax2) = plt.subplots(1, 2, figsize=(15, 5))\n",
    "t = f.suptitle('Deep Neural Net Performance', fontsize=12)\n",
    "f.subplots_adjust(top=0.85, wspace=0.3)\n",
    "\n",
    "epochs = list(range(1,100+1))\n",
    "ax1.plot(epochs, history.history['accuracy'], label='Train Accuracy')\n",
    "ax1.plot(epochs, history.history['val_accuracy'], label='Validation Accuracy')\n",
    "ax1.set_xticks(epochs)\n",
    "ax1.set_ylabel('Accuracy Value')\n",
    "ax1.set_xlabel('Epoch')\n",
    "ax1.set_title('Accuracy')\n",
    "l1 = ax1.legend(loc=\"best\")\n",
    "\n",
    "ax2.plot(epochs, history.history['loss'], label='Train Loss')\n",
    "ax2.plot(epochs, history.history['val_loss'], label='Validation Loss')\n",
    "ax2.set_xticks(epochs)\n",
    "ax2.set_ylabel('Loss Value')\n",
    "ax2.set_xlabel('Epoch')\n",
    "ax2.set_title('Loss')\n",
    "l2 = ax2.legend(loc=\"best\")"
   ]
  },
  {
   "cell_type": "code",
   "execution_count": 22,
   "metadata": {
    "id": "lYWbLvN-X1N1"
   },
   "outputs": [],
   "source": [
    "# # training and validation\n",
    "# model.fit(train_generator.flow(X_train, y_train, batch_size=batch_size), epochs = epochs, \n",
    "#           steps_per_epoch = len(X_train)//batch_size, \n",
    "#           validation_data = val_generator.flow(X_val, y_val, batch_size=batch_size), \n",
    "#           validation_steps = 250, callbacks = [lrr], verbose=1)x_train, y_train,\n",
    "#           batch_size=256,\n",
    "#           epochs=10,\n",
    "#           validation_data=(x_test, y_test))\n",
    "\n",
    "# model.evaluate(x_test, y_test)"
   ]
  }
 ],
 "metadata": {
  "accelerator": "GPU",
  "colab": {
   "name": "VGG16.ipynb",
   "provenance": []
  },
  "kernelspec": {
   "display_name": "Python 3",
   "language": "python",
   "name": "python3"
  },
  "language_info": {
   "codemirror_mode": {
    "name": "ipython",
    "version": 3
   },
   "file_extension": ".py",
   "mimetype": "text/x-python",
   "name": "python",
   "nbconvert_exporter": "python",
   "pygments_lexer": "ipython3",
   "version": "3.7.6"
  }
 },
 "nbformat": 4,
 "nbformat_minor": 1
}
